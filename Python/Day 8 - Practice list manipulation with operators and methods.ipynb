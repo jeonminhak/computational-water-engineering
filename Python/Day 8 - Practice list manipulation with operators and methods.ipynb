{
  "metadata": {
    "kernelspec": {
      "name": "xpython",
      "display_name": "Python 3.13 (XPython)",
      "language": "python"
    },
    "language_info": {
      "file_extension": ".py",
      "mimetype": "text/x-python",
      "name": "python",
      "version": "3.13.1"
    }
  },
  "nbformat_minor": 5,
  "nbformat": 4,
  "cells": [
    {
      "id": "ae5466b0-c5e8-4840-b47d-9a334a2a1e8d",
      "cell_type": "code",
      "source": "xs = [1,2,3]\nys = [7,8,9]",
      "metadata": {
        "trusted": true
      },
      "outputs": [],
      "execution_count": 1
    },
    {
      "id": "61c39994-d0eb-4581-aa0d-99b06e39fafa",
      "cell_type": "code",
      "source": "xs + 1",
      "metadata": {
        "trusted": true
      },
      "outputs": [
        {
          "ename": "<class 'TypeError'>",
          "evalue": "can only concatenate list (not \"int\") to list",
          "traceback": [
            "\u001b[31m---------------------------------------------------------------------------\u001b[39m",
            "\u001b[31mTypeError\u001b[39m                                 Traceback (most recent call last)",
            "\u001b[36mCell\u001b[39m\u001b[36m \u001b[39m\u001b[32mIn[2]\u001b[39m\u001b[32m, line 1\u001b[39m\n\u001b[32m----> \u001b[39m\u001b[32m1\u001b[39m \u001b[43mxs\u001b[49m\u001b[43m \u001b[49m\u001b[43m+\u001b[49m\u001b[43m \u001b[49m\u001b[32;43m1\u001b[39;49m\n",
            "\u001b[31mTypeError\u001b[39m: can only concatenate list (not \"int\") to list"
          ],
          "output_type": "error"
        }
      ],
      "execution_count": 2
    },
    {
      "id": "7be08072-de5a-4459-9d4a-5872fe5ef06c",
      "cell_type": "code",
      "source": "xs + ys",
      "metadata": {
        "trusted": true
      },
      "outputs": [
        {
          "execution_count": 3,
          "output_type": "execute_result",
          "data": {
            "text/plain": "[1, 2, 3, 7, 8, 9]"
          },
          "metadata": {}
        }
      ],
      "execution_count": 3
    },
    {
      "id": "2bb73429-6bf2-422a-ad82-566850f35a5f",
      "cell_type": "code",
      "source": "xs * 2",
      "metadata": {
        "trusted": true
      },
      "outputs": [
        {
          "execution_count": 5,
          "output_type": "execute_result",
          "data": {
            "text/plain": "[1, 2, 3, 1, 2, 3]"
          },
          "metadata": {}
        }
      ],
      "execution_count": 5
    },
    {
      "id": "c641297c-84f4-4753-a455-83a429fc431b",
      "cell_type": "code",
      "source": "7 in ys",
      "metadata": {
        "trusted": true
      },
      "outputs": [
        {
          "execution_count": 6,
          "output_type": "execute_result",
          "data": {
            "text/plain": "True"
          },
          "metadata": {}
        }
      ],
      "execution_count": 6
    },
    {
      "id": "8fb649f5-b4d7-4b59-8c1b-15fc70e283fc",
      "cell_type": "code",
      "source": "7 not in ys",
      "metadata": {
        "trusted": true
      },
      "outputs": [
        {
          "execution_count": 7,
          "output_type": "execute_result",
          "data": {
            "text/plain": "False"
          },
          "metadata": {}
        }
      ],
      "execution_count": 7
    },
    {
      "id": "64f5a1f2-1088-4d6d-9ac1-61318d61e3f9",
      "cell_type": "code",
      "source": "xs",
      "metadata": {
        "trusted": true
      },
      "outputs": [
        {
          "execution_count": 8,
          "output_type": "execute_result",
          "data": {
            "text/plain": "[1, 2, 3]"
          },
          "metadata": {}
        }
      ],
      "execution_count": 8
    },
    {
      "id": "067f548d-fb07-4e04-ae17-db3f9dbcf206",
      "cell_type": "code",
      "source": "xs.append(4)",
      "metadata": {
        "trusted": true
      },
      "outputs": [],
      "execution_count": 9
    },
    {
      "id": "0fba2145-7865-4112-bb69-8e10a66f2962",
      "cell_type": "code",
      "source": "xs",
      "metadata": {
        "trusted": true
      },
      "outputs": [
        {
          "execution_count": 10,
          "output_type": "execute_result",
          "data": {
            "text/plain": "[1, 2, 3, 4]"
          },
          "metadata": {}
        }
      ],
      "execution_count": 10
    },
    {
      "id": "d55635e1-43b5-4c20-878d-a691e8023c8a",
      "cell_type": "code",
      "source": "xs + ys",
      "metadata": {
        "trusted": true
      },
      "outputs": [
        {
          "execution_count": 11,
          "output_type": "execute_result",
          "data": {
            "text/plain": "[1, 2, 3, 4, 7, 8, 9]"
          },
          "metadata": {}
        }
      ],
      "execution_count": 11
    },
    {
      "id": "b0205214-d92a-439e-a624-439547778f33",
      "cell_type": "code",
      "source": "xs.extend(ys)",
      "metadata": {
        "trusted": true
      },
      "outputs": [],
      "execution_count": 12
    },
    {
      "id": "425fecf9-083d-4752-b4bc-dfae18c81af7",
      "cell_type": "code",
      "source": "xs",
      "metadata": {
        "trusted": true
      },
      "outputs": [
        {
          "execution_count": 13,
          "output_type": "execute_result",
          "data": {
            "text/plain": "[1, 2, 3, 4, 7, 8, 9]"
          },
          "metadata": {}
        }
      ],
      "execution_count": 13
    },
    {
      "id": "83866bef-78db-4398-a0a9-c491de029d31",
      "cell_type": "code",
      "source": "xs = xs.extend(ys)",
      "metadata": {
        "trusted": true
      },
      "outputs": [],
      "execution_count": 14
    },
    {
      "id": "ab348da5-fb0c-419b-a0ca-fad51d4e4f04",
      "cell_type": "code",
      "source": "xs",
      "metadata": {
        "trusted": true
      },
      "outputs": [],
      "execution_count": 15
    },
    {
      "id": "dc75efe0-0fc3-42ec-904e-696e54cb1558",
      "cell_type": "code",
      "source": "xs = [1,2,3]",
      "metadata": {
        "trusted": true
      },
      "outputs": [],
      "execution_count": 16
    },
    {
      "id": "9e44e56c-1e36-4def-934a-8be75a5bcb78",
      "cell_type": "code",
      "source": "xs.insert(2,100)",
      "metadata": {
        "trusted": true
      },
      "outputs": [],
      "execution_count": 17
    },
    {
      "id": "da5600fc-4a8d-4c87-81df-e6da65269df5",
      "cell_type": "code",
      "source": "xs",
      "metadata": {
        "trusted": true
      },
      "outputs": [
        {
          "execution_count": 18,
          "output_type": "execute_result",
          "data": {
            "text/plain": "[1, 2, 100, 3]"
          },
          "metadata": {}
        }
      ],
      "execution_count": 18
    },
    {
      "id": "2bd08be9-cc3d-4b65-87cf-06f43e2b2899",
      "cell_type": "code",
      "source": "#remove\nxs = [1,2,1,3,5]",
      "metadata": {
        "trusted": true
      },
      "outputs": [],
      "execution_count": 19
    },
    {
      "id": "32e21e51-d4e5-4525-81d4-c7e43edfbf84",
      "cell_type": "code",
      "source": "xs.remove(1)",
      "metadata": {
        "trusted": true
      },
      "outputs": [],
      "execution_count": 20
    },
    {
      "id": "117c7bce-b7d4-4d2b-9b2e-b35011df495e",
      "cell_type": "code",
      "source": "xs",
      "metadata": {
        "trusted": true
      },
      "outputs": [
        {
          "execution_count": 21,
          "output_type": "execute_result",
          "data": {
            "text/plain": "[2, 1, 3, 5]"
          },
          "metadata": {}
        }
      ],
      "execution_count": 21
    },
    {
      "id": "cc7f7e50-763b-4ec0-ac3d-94318187f5d4",
      "cell_type": "code",
      "source": "del ys",
      "metadata": {
        "trusted": true
      },
      "outputs": [],
      "execution_count": 22
    },
    {
      "id": "076d31be-836c-48c0-bcf7-93fc1f888044",
      "cell_type": "code",
      "source": "ys",
      "metadata": {
        "trusted": true
      },
      "outputs": [
        {
          "ename": "<class 'NameError'>",
          "evalue": "name 'ys' is not defined",
          "traceback": [
            "\u001b[31m---------------------------------------------------------------------------\u001b[39m",
            "\u001b[31mNameError\u001b[39m                                 Traceback (most recent call last)",
            "\u001b[36mCell\u001b[39m\u001b[36m \u001b[39m\u001b[32mIn[23]\u001b[39m\u001b[32m, line 1\u001b[39m\n\u001b[32m----> \u001b[39m\u001b[32m1\u001b[39m \u001b[43mys\u001b[49m\n",
            "\u001b[31mNameError\u001b[39m: name 'ys' is not defined"
          ],
          "output_type": "error"
        }
      ],
      "execution_count": 23
    },
    {
      "id": "27b1ab6c-07fd-4fa5-a2f6-7791cdd2855c",
      "cell_type": "code",
      "source": "del xs[1]",
      "metadata": {
        "trusted": true
      },
      "outputs": [],
      "execution_count": 24
    },
    {
      "id": "99e1ab6f-70fa-43ba-97af-ded79d767c81",
      "cell_type": "code",
      "source": "xs",
      "metadata": {
        "trusted": true
      },
      "outputs": [
        {
          "execution_count": 25,
          "output_type": "execute_result",
          "data": {
            "text/plain": "[2, 3, 5]"
          },
          "metadata": {}
        }
      ],
      "execution_count": 25
    },
    {
      "id": "ef6a01c6-9c66-4c87-b10e-8477af3dedef",
      "cell_type": "code",
      "source": "xs.pop()",
      "metadata": {
        "trusted": true
      },
      "outputs": [
        {
          "execution_count": 27,
          "output_type": "execute_result",
          "data": {
            "text/plain": "5"
          },
          "metadata": {}
        }
      ],
      "execution_count": 27
    },
    {
      "id": "f44b508d-e61e-4a7d-a2ee-808cfc8a582f",
      "cell_type": "code",
      "source": "xs",
      "metadata": {
        "trusted": true
      },
      "outputs": [
        {
          "execution_count": 28,
          "output_type": "execute_result",
          "data": {
            "text/plain": "[2, 3]"
          },
          "metadata": {}
        }
      ],
      "execution_count": 28
    },
    {
      "id": "87feae9b-2799-4e44-81e7-f8de91658c24",
      "cell_type": "code",
      "source": "#del xs[-1]\nz = xs.pop()",
      "metadata": {
        "trusted": true
      },
      "outputs": [
        {
          "ename": "<class 'IndexError'>",
          "evalue": "pop from empty list",
          "traceback": [
            "\u001b[31m---------------------------------------------------------------------------\u001b[39m",
            "\u001b[31mIndexError\u001b[39m                                Traceback (most recent call last)",
            "\u001b[36mCell\u001b[39m\u001b[36m \u001b[39m\u001b[32mIn[34]\u001b[39m\u001b[32m, line 2\u001b[39m\n\u001b[32m      1\u001b[39m \u001b[38;5;66;03m#del xs[-1]\u001b[39;00m\n\u001b[32m----> \u001b[39m\u001b[32m2\u001b[39m z = \u001b[43mxs\u001b[49m\u001b[43m.\u001b[49m\u001b[43mpop\u001b[49m\u001b[43m(\u001b[49m\u001b[43m)\u001b[49m\n",
            "\u001b[31mIndexError\u001b[39m: pop from empty list"
          ],
          "output_type": "error"
        }
      ],
      "execution_count": 34
    },
    {
      "id": "85a90ec5-7c27-4689-8ea4-ad058d145f4a",
      "cell_type": "code",
      "source": "z",
      "metadata": {
        "trusted": true
      },
      "outputs": [
        {
          "execution_count": 35,
          "output_type": "execute_result",
          "data": {
            "text/plain": "2"
          },
          "metadata": {}
        }
      ],
      "execution_count": 35
    },
    {
      "id": "f7ad6207-45a5-4aa6-a543-dd633c5656d7",
      "cell_type": "code",
      "source": "xs",
      "metadata": {
        "trusted": true
      },
      "outputs": [
        {
          "execution_count": 36,
          "output_type": "execute_result",
          "data": {
            "text/plain": "[]"
          },
          "metadata": {}
        }
      ],
      "execution_count": 36
    }
  ]
}
