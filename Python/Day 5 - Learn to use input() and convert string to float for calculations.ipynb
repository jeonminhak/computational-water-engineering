{
  "metadata": {
    "kernelspec": {
      "name": "xpython",
      "display_name": "Python 3.13 (XPython)",
      "language": "python"
    },
    "language_info": {
      "file_extension": ".py",
      "mimetype": "text/x-python",
      "name": "python",
      "version": "3.13.1"
    }
  },
  "nbformat_minor": 5,
  "nbformat": 4,
  "cells": [
    {
      "id": "1d3869f3-b003-47dd-bc05-8f8a504600d3",
      "cell_type": "code",
      "source": "# 화씨온도 = 섭씨온도 * 1.8 + 32\nC = 30\nC * 1.8 +32",
      "metadata": {
        "trusted": true
      },
      "outputs": [
        {
          "execution_count": 1,
          "output_type": "execute_result",
          "data": {
            "text/plain": "86.0"
          },
          "metadata": {}
        }
      ],
      "execution_count": 1
    },
    {
      "id": "bc1720be-fc97-4fb1-9d92-b5fb6084064a",
      "cell_type": "code",
      "source": "C = INPUT()",
      "metadata": {
        "trusted": true
      },
      "outputs": [],
      "execution_count": null
    },
    {
      "id": "87144e9c-3048-40c3-9945-7fa5966b2ad8",
      "cell_type": "code",
      "source": "30",
      "metadata": {
        "trusted": true
      },
      "outputs": [
        {
          "execution_count": 3,
          "output_type": "execute_result",
          "data": {
            "text/plain": "30"
          },
          "metadata": {}
        }
      ],
      "execution_count": 3
    },
    {
      "id": "01a12804-e09c-4995-aed0-13741fe5616f",
      "cell_type": "code",
      "source": "C",
      "metadata": {
        "trusted": true
      },
      "outputs": [
        {
          "execution_count": 4,
          "output_type": "execute_result",
          "data": {
            "text/plain": "30"
          },
          "metadata": {}
        }
      ],
      "execution_count": 4
    },
    {
      "id": "64fe0632-043e-4112-b2df-c1bbd6c87cd9",
      "cell_type": "code",
      "source": "C * 1.8 + 32",
      "metadata": {
        "trusted": true
      },
      "outputs": [
        {
          "execution_count": 5,
          "output_type": "execute_result",
          "data": {
            "text/plain": "86.0"
          },
          "metadata": {}
        }
      ],
      "execution_count": 5
    },
    {
      "id": "1bf855de-00b7-45ee-9fe6-dcb12c94a1e7",
      "cell_type": "code",
      "source": "c = input()\nc = float(c)\nc * 1.8 + 32",
      "metadata": {
        "trusted": true
      },
      "outputs": [
        {
          "output_type": "stream",
          "name": "stdin",
          "text": " 30\n"
        },
        {
          "execution_count": 12,
          "output_type": "execute_result",
          "data": {
            "text/plain": "86.0"
          },
          "metadata": {}
        }
      ],
      "execution_count": 12
    },
    {
      "id": "55d93860-a07a-4dfb-b067-7efe49e19768",
      "cell_type": "code",
      "source": "",
      "metadata": {
        "trusted": true
      },
      "outputs": [],
      "execution_count": null
    }
  ]
}
