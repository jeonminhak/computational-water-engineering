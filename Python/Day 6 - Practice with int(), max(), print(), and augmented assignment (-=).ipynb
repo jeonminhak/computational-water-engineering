{
  "metadata": {
    "kernelspec": {
      "name": "xpython",
      "display_name": "Python 3.13 (XPython)",
      "language": "python"
    },
    "language_info": {
      "file_extension": ".py",
      "mimetype": "text/x-python",
      "name": "python",
      "version": "3.13.1"
    }
  },
  "nbformat_minor": 5,
  "nbformat": 4,
  "cells": [
    {
      "id": "434df560-dc4f-4a8e-bafa-e2a4effaa74d",
      "cell_type": "code",
      "source": "# 물건의 가격과 고객이 지불한 금액을 입력\nprice = input('물건의 가격:')\nprice = int(price)\npay = input('고객이 지불한금액:')\npay = int(pay)\n#pay = pay - price\npay -= price\nprint(pay)",
      "metadata": {
        "trusted": true
      },
      "outputs": [
        {
          "output_type": "stream",
          "name": "stdin",
          "text": "물건의 가격: 3000\n고객이 지불한금액: 4000\n"
        },
        {
          "name": "stdout",
          "output_type": "stream",
          "text": "1000\n"
        }
      ],
      "execution_count": 21
    },
    {
      "id": "1c96f8ed-23f8-413a-8861-5fd6b16420b4",
      "cell_type": "code",
      "source": "pay",
      "metadata": {
        "trusted": true
      },
      "outputs": [
        {
          "execution_count": 22,
          "output_type": "execute_result",
          "data": {
            "text/plain": "1000"
          },
          "metadata": {}
        }
      ],
      "execution_count": 22
    },
    {
      "id": "8e9ad991-3743-4a7f-90d6-5a5c05d1764f",
      "cell_type": "code",
      "source": "# max : 최대값 구하기\nm = max(1,4,5,7,2)\nm + 10",
      "metadata": {
        "trusted": true
      },
      "outputs": [
        {
          "execution_count": 24,
          "output_type": "execute_result",
          "data": {
            "text/plain": "17"
          },
          "metadata": {}
        }
      ],
      "execution_count": 24
    },
    {
      "id": "d6990fd9-b15b-44a7-92c1-cdc843b800e6",
      "cell_type": "code",
      "source": "# print()\n1 + 1\n2 * 3\n4 / 20",
      "metadata": {
        "trusted": true
      },
      "outputs": [
        {
          "execution_count": 25,
          "output_type": "execute_result",
          "data": {
            "text/plain": "0.2"
          },
          "metadata": {}
        }
      ],
      "execution_count": 25
    },
    {
      "id": "3365c007-03cd-43b2-9ca8-d8ab798e41a1",
      "cell_type": "code",
      "source": "# print()\nx = 1\nx\n2 * 3",
      "metadata": {
        "trusted": true
      },
      "outputs": [
        {
          "execution_count": 26,
          "output_type": "execute_result",
          "data": {
            "text/plain": "6"
          },
          "metadata": {}
        }
      ],
      "execution_count": 26
    },
    {
      "id": "35f0d252-6d9c-4974-9727-ea028451d617",
      "cell_type": "code",
      "source": "x",
      "metadata": {
        "trusted": true
      },
      "outputs": [
        {
          "execution_count": 27,
          "output_type": "execute_result",
          "data": {
            "text/plain": "1"
          },
          "metadata": {}
        }
      ],
      "execution_count": 27
    },
    {
      "id": "5ca59f24-99fb-45b0-99d1-6998478a8362",
      "cell_type": "code",
      "source": "# print()\nprint(1 + 1)\nprint(2 * 3)",
      "metadata": {
        "trusted": true
      },
      "outputs": [
        {
          "name": "stdout",
          "output_type": "stream",
          "text": "2\n6\n"
        }
      ],
      "execution_count": 28
    },
    {
      "id": "9e1f45a7-3f11-480a-a60c-615e9744c940",
      "cell_type": "code",
      "source": "x = 1 + 1\nx",
      "metadata": {
        "trusted": true
      },
      "outputs": [
        {
          "execution_count": 29,
          "output_type": "execute_result",
          "data": {
            "text/plain": "2"
          },
          "metadata": {}
        }
      ],
      "execution_count": 29
    },
    {
      "id": "0515c1d0-c324-43bf-a86b-ef54ce2fe919",
      "cell_type": "code",
      "source": "x = print(1+1)",
      "metadata": {
        "trusted": true
      },
      "outputs": [
        {
          "name": "stdout",
          "output_type": "stream",
          "text": "2\n"
        }
      ],
      "execution_count": 30
    },
    {
      "id": "88cae4f8-61cc-4aeb-bee1-82525ac4ede9",
      "cell_type": "code",
      "source": "x",
      "metadata": {
        "trusted": true
      },
      "outputs": [],
      "execution_count": 33
    },
    {
      "id": "e9cb463f-afa2-4ed3-8006-33e5d393bb24",
      "cell_type": "code",
      "source": "# x는 none인 상태임",
      "metadata": {
        "trusted": true
      },
      "outputs": [],
      "execution_count": null
    }
  ]
}
