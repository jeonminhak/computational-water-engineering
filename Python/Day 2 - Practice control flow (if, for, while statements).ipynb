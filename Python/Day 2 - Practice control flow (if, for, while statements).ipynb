{
  "metadata": {
    "kernelspec": {
      "name": "xpython",
      "display_name": "Python 3.13 (XPython)",
      "language": "python"
    },
    "language_info": {
      "file_extension": ".py",
      "mimetype": "text/x-python",
      "name": "python",
      "version": "3.13.1"
    }
  },
  "nbformat_minor": 5,
  "nbformat": 4,
  "cells": [
    {
      "id": "525d4714-9ff1-42c0-bd64-e5bfb593e257",
      "cell_type": "code",
      "source": "a=3",
      "metadata": {
        "trusted": true
      },
      "outputs": [],
      "execution_count": null
    },
    {
      "id": "b5de8815-ba28-4161-94b0-e91e42a291d8",
      "cell_type": "code",
      "source": "if a > 1:",
      "metadata": {
        "trusted": true
      },
      "outputs": [],
      "execution_count": null
    },
    {
      "id": "a4ca7ab8-32a9-4a96-88f5-aef3c7b0afd1",
      "cell_type": "code",
      "source": "    print(\"a는 1보다 큽니다.\")",
      "metadata": {
        "trusted": true
      },
      "outputs": [
        {
          "name": "stdout",
          "output_type": "stream",
          "text": "a는 1보다 큽니다.\n"
        }
      ],
      "execution_count": 1
    },
    {
      "id": "eb75785e-b5d6-402c-93b1-1e96538cc6df",
      "cell_type": "code",
      "source": "for a in [1, 2, 3]:\n    print(a)",
      "metadata": {
        "trusted": true
      },
      "outputs": [
        {
          "name": "stdout",
          "output_type": "stream",
          "text": "1\n2\n3\n"
        }
      ],
      "execution_count": 10
    },
    {
      "id": "e00c8d6a-9336-45ed-9ed0-fa71521dd5ff",
      "cell_type": "code",
      "source": "i=0",
      "metadata": {
        "trusted": true
      },
      "outputs": [],
      "execution_count": null
    },
    {
      "id": "ad0c7b6b-af70-479c-ab8c-05f2a53a8458",
      "cell_type": "code",
      "source": "while i < 3:\n    i = i + 1\n    print(i)\n",
      "metadata": {
        "trusted": true
      },
      "outputs": [
        {
          "ename": "<class 'NameError'>",
          "evalue": "name 'i' is not defined",
          "traceback": [
            "\u001b[31m---------------------------------------------------------------------------\u001b[39m",
            "\u001b[31mNameError\u001b[39m                                 Traceback (most recent call last)",
            "\u001b[36mCell\u001b[39m\u001b[36m \u001b[39m\u001b[32mIn[14]\u001b[39m\u001b[32m, line 1\u001b[39m\n\u001b[32m----> \u001b[39m\u001b[32m1\u001b[39m \u001b[38;5;28;01mwhile\u001b[39;00m \u001b[43mi\u001b[49m < \u001b[32m3\u001b[39m:\n\u001b[32m      2\u001b[39m     i = i + \u001b[32m1\u001b[39m\n\u001b[32m      3\u001b[39m     \u001b[38;5;28mprint\u001b[39m(i)\n",
            "\u001b[31mNameError\u001b[39m: name 'i' is not defined"
          ],
          "output_type": "error"
        }
      ],
      "execution_count": 14
    },
    {
      "id": "dd373008-d070-40ca-bc69-6f960177be83",
      "cell_type": "code",
      "source": "i=0",
      "metadata": {
        "trusted": true
      },
      "outputs": [],
      "execution_count": 16
    },
    {
      "id": "8894f2e0-3f44-4ac1-8327-48155100f978",
      "cell_type": "code",
      "source": "while i<3:\n    i=i+1\n    print(i)",
      "metadata": {
        "trusted": true
      },
      "outputs": [
        {
          "name": "stdout",
          "output_type": "stream",
          "text": "1\n2\n3\n"
        }
      ],
      "execution_count": 17
    },
    {
      "id": "0af2cc62-43fa-4984-8bb9-96dc494cf623",
      "cell_type": "code",
      "source": "",
      "metadata": {
        "trusted": true
      },
      "outputs": [],
      "execution_count": null
    }
  ]
}
