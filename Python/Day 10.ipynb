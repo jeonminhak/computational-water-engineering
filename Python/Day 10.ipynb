{
 "cells": [
  {
   "cell_type": "code",
   "execution_count": 16,
   "id": "ddf104dd",
   "metadata": {},
   "outputs": [
    {
     "name": "stdout",
     "output_type": "stream",
     "text": [
      "보통삼각형\n"
     ]
    }
   ],
   "source": [
    "#직각삼각형 판별기 c**2 == a**2 + b**2\n",
    "a=3\n",
    "b=4\n",
    "c=6\n",
    "f= (a**2) + (b**2) == c**2\n",
    "if f:\n",
    "    print('직각삼각형')\n",
    "else:\n",
    "    print('보통삼각형')"
   ]
  },
  {
   "cell_type": "code",
   "execution_count": 23,
   "id": "29b54e85",
   "metadata": {},
   "outputs": [
    {
     "name": "stdout",
     "output_type": "stream",
     "text": [
      "음수\n"
     ]
    }
   ],
   "source": [
    "#정수부호 판별기\n",
    "a=input('정수를입력하세요:')\n",
    "a=int(a)\n",
    "if a>0:\n",
    "    print('양수')\n",
    "elif a==0:\n",
    "    print('0')\n",
    "else:\n",
    "    print('음수')\n",
    "\n"
   ]
  },
  {
   "cell_type": "code",
   "execution_count": 6,
   "id": "79ca88a1",
   "metadata": {},
   "outputs": [],
   "source": [
    "# 학생판별기\n",
    "# 26세이하 20세 이상 대학생\n",
    "# 20세미만 17세 이상 고등학생\n",
    "# 17세미만 13세 이상 중학생\n",
    "# 8세이상 14세 미만 초등학생\n",
    "# 나머지는 학생이 아닙니다.\n",
    "age=int(input('나이를 입력하세요:'))"
   ]
  },
  {
   "cell_type": "code",
   "execution_count": 19,
   "id": "3669fa7b",
   "metadata": {},
   "outputs": [
    {
     "name": "stdout",
     "output_type": "stream",
     "text": [
      "학생이아닙니다.\n"
     ]
    }
   ],
   "source": [
    "age=int(input('나이를 입력하세요:'))\n",
    "if (age>26) or (age<8):\n",
    "    print('학생이아닙니다.')\n",
    "elif age>=20:\n",
    "    print('대학생')\n",
    "elif age>=17:\n",
    "    print('고등학생')\n",
    "elif age>=14:\n",
    "    print('중학생')\n",
    "else:\n",
    "    print('초등학생')\n",
    "    "
   ]
  },
  {
   "cell_type": "code",
   "execution_count": null,
   "id": "215b0bb2",
   "metadata": {},
   "outputs": [],
   "source": []
  }
 ],
 "metadata": {
  "kernelspec": {
   "display_name": "base",
   "language": "python",
   "name": "python3"
  },
  "language_info": {
   "codemirror_mode": {
    "name": "ipython",
    "version": 3
   },
   "file_extension": ".py",
   "mimetype": "text/x-python",
   "name": "python",
   "nbconvert_exporter": "python",
   "pygments_lexer": "ipython3",
   "version": "3.13.5"
  }
 },
 "nbformat": 4,
 "nbformat_minor": 5
}
