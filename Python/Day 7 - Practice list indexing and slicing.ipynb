{
  "metadata": {
    "kernelspec": {
      "name": "xpython",
      "display_name": "Python 3.13 (XPython)",
      "language": "python"
    },
    "language_info": {
      "file_extension": ".py",
      "mimetype": "text/x-python",
      "name": "python",
      "version": "3.13.1"
    }
  },
  "nbformat_minor": 5,
  "nbformat": 4,
  "cells": [
    {
      "id": "66b5e507-43a9-4a25-9ac3-ba69c919ea44",
      "cell_type": "code",
      "source": "x = [1, True, 'hello']",
      "metadata": {
        "trusted": true
      },
      "outputs": [],
      "execution_count": 6
    },
    {
      "id": "56f79859-15d7-436d-bb6b-87d5ec542253",
      "cell_type": "code",
      "source": "x",
      "metadata": {
        "trusted": true
      },
      "outputs": [
        {
          "execution_count": 7,
          "output_type": "execute_result",
          "data": {
            "text/plain": "[1, True, 'hello']"
          },
          "metadata": {}
        }
      ],
      "execution_count": 7
    },
    {
      "id": "eb49ee9e-2302-4694-a35f-de1d227feade",
      "cell_type": "code",
      "source": "x[0]",
      "metadata": {
        "trusted": true
      },
      "outputs": [
        {
          "execution_count": 8,
          "output_type": "execute_result",
          "data": {
            "text/plain": "1"
          },
          "metadata": {}
        }
      ],
      "execution_count": 8
    },
    {
      "id": "efbd69ca-792f-462f-9bb9-d755f2bdf1dd",
      "cell_type": "code",
      "source": "x = ['서울','부산','인천','대구','대전','광주','울산','수원']",
      "metadata": {
        "trusted": true
      },
      "outputs": [],
      "execution_count": 10
    },
    {
      "id": "c78db44d-c3c0-48dc-9bbf-73ff1f6ab09a",
      "cell_type": "code",
      "source": "x[1]",
      "metadata": {
        "trusted": true
      },
      "outputs": [
        {
          "execution_count": 11,
          "output_type": "execute_result",
          "data": {
            "text/plain": "'부산'"
          },
          "metadata": {}
        }
      ],
      "execution_count": 11
    },
    {
      "id": "299161fc-9fbb-44f4-ab85-2d0084fc38ef",
      "cell_type": "code",
      "source": "x[6]",
      "metadata": {
        "trusted": true
      },
      "outputs": [
        {
          "execution_count": 12,
          "output_type": "execute_result",
          "data": {
            "text/plain": "'울산'"
          },
          "metadata": {}
        }
      ],
      "execution_count": 12
    },
    {
      "id": "c953b4e7-c039-4b51-ba98-35ed7fd33522",
      "cell_type": "code",
      "source": "x[0,2,5]",
      "metadata": {
        "trusted": true
      },
      "outputs": [
        {
          "ename": "<class 'TypeError'>",
          "evalue": "list indices must be integers or slices, not tuple",
          "traceback": [
            "\u001b[31m---------------------------------------------------------------------------\u001b[39m",
            "\u001b[31mTypeError\u001b[39m                                 Traceback (most recent call last)",
            "\u001b[36mCell\u001b[39m\u001b[36m \u001b[39m\u001b[32mIn[13]\u001b[39m\u001b[32m, line 1\u001b[39m\n\u001b[32m----> \u001b[39m\u001b[32m1\u001b[39m \u001b[43mx\u001b[49m\u001b[43m[\u001b[49m\u001b[32;43m0\u001b[39;49m\u001b[43m,\u001b[49m\u001b[32;43m2\u001b[39;49m\u001b[43m,\u001b[49m\u001b[32;43m5\u001b[39;49m\u001b[43m]\u001b[49m\n",
            "\u001b[31mTypeError\u001b[39m: list indices must be integers or slices, not tuple"
          ],
          "output_type": "error"
        }
      ],
      "execution_count": 13
    },
    {
      "id": "0d593bb2-2d81-4f1a-8572-1c15f88752c3",
      "cell_type": "code",
      "source": "[x[0], x[2], x[4]]",
      "metadata": {
        "trusted": true
      },
      "outputs": [
        {
          "execution_count": 14,
          "output_type": "execute_result",
          "data": {
            "text/plain": "['서울', '인천', '대전']"
          },
          "metadata": {}
        }
      ],
      "execution_count": 14
    },
    {
      "id": "34534760-3cca-4920-8235-27cee31106b0",
      "cell_type": "code",
      "source": "x[0:3]",
      "metadata": {
        "trusted": true
      },
      "outputs": [
        {
          "execution_count": 15,
          "output_type": "execute_result",
          "data": {
            "text/plain": "['서울', '부산', '인천']"
          },
          "metadata": {}
        }
      ],
      "execution_count": 15
    },
    {
      "id": "ea9c061b-0ad4-4052-9787-c26820570f0a",
      "cell_type": "code",
      "source": "x[0:3:2]",
      "metadata": {
        "trusted": true
      },
      "outputs": [
        {
          "execution_count": 16,
          "output_type": "execute_result",
          "data": {
            "text/plain": "['서울', '인천']"
          },
          "metadata": {}
        }
      ],
      "execution_count": 16
    },
    {
      "id": "717df80b-e378-402e-b503-b9a50eb587e3",
      "cell_type": "code",
      "source": "x[::-1]",
      "metadata": {
        "trusted": true
      },
      "outputs": [
        {
          "execution_count": 17,
          "output_type": "execute_result",
          "data": {
            "text/plain": "['수원', '울산', '광주', '대전', '대구', '인천', '부산', '서울']"
          },
          "metadata": {}
        }
      ],
      "execution_count": 17
    }
  ]
}
